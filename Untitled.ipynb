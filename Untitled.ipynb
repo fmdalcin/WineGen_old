{
 "cells": [
  {
   "cell_type": "code",
   "execution_count": 1,
   "id": "b5139002-3a7e-42a2-86e6-e3c8bffb27a1",
   "metadata": {
    "scrolled": true
   },
   "outputs": [
    {
     "name": "stdout",
     "output_type": "stream",
     "text": [
      "Using saved preprocessed data.\n",
      "Using saved NLP Models.\n",
      "Using saved scaled data\n"
     ]
    }
   ],
   "source": [
    "import pandas as pd\n",
    "import model\n",
    "import requests\n",
    "from main import X_scaled\n",
    "from main import neigh\n",
    "import main\n",
    "import json"
   ]
  },
  {
   "cell_type": "code",
   "execution_count": null,
   "id": "2689b653-8d21-4e92-82a2-1f961b2be19b",
   "metadata": {},
   "outputs": [],
   "source": []
  },
  {
   "cell_type": "code",
   "execution_count": 33,
   "id": "73c5f535-d655-49a8-a90c-32dc87958def",
   "metadata": {},
   "outputs": [
    {
     "name": "stdout",
     "output_type": "stream",
     "text": [
      "UI Error: Request failed with status code 500\n"
     ]
    },
    {
     "data": {
      "text/plain": [
       "['cherry',\n",
       " 'tannin',\n",
       " 'fruit',\n",
       " 'spice',\n",
       " 'berry',\n",
       " 'leather',\n",
       " 'licorice',\n",
       " 'ripe',\n",
       " 'herb',\n",
       " 'oak']"
      ]
     },
     "execution_count": 33,
     "metadata": {},
     "output_type": "execute_result"
    }
   ],
   "source": [
    "api_url = \" http://127.0.0.1:8000/predict\"\n",
    "all_index=[50610, 75362]\n",
    "response = requests.post(api_url, json.dumps(all_index))\n",
    "if response.status_code == 200:\n",
    "    try:\n",
    "        options = response.json()['tokens']\n",
    "        pred_df = response.json()['predictions']\n",
    "    except ValueError as e:\n",
    "        print(\"Error parsing JSON response: {}\".format(e))\n",
    "else:\n",
    "    print(\"UI Error: Request failed with status code {}\".format(response.status_code))\n",
    "options"
   ]
  },
  {
   "cell_type": "code",
   "execution_count": 10,
   "id": "e87e5e95-bc48-476f-b5c2-8e0dfcc8c158",
   "metadata": {},
   "outputs": [],
   "source": [
    "selected_tokens = ['fruit']"
   ]
  },
  {
   "cell_type": "code",
   "execution_count": 31,
   "id": "717bcebb-ef27-4c23-8fa4-330423f2416c",
   "metadata": {},
   "outputs": [
    {
     "data": {
      "text/plain": [
       "{'recommendations': [202,\n",
       "  47303,\n",
       "  29912,\n",
       "  51977,\n",
       "  29909,\n",
       "  109883,\n",
       "  8578,\n",
       "  57748,\n",
       "  102617,\n",
       "  104655]}"
      ]
     },
     "execution_count": 31,
     "metadata": {},
     "output_type": "execute_result"
    }
   ],
   "source": [
    "api_url = \" http://127.0.0.1:8000/predict2\"\n",
    "response = requests.post(api_url, json={'predictions':pred_df, 'tokens':selected_tokens, 'type_selected':'red'})\n",
    "response.json()"
   ]
  }
 ],
 "metadata": {
  "kernelspec": {
   "display_name": "Python 3 (ipykernel)",
   "language": "python",
   "name": "python3"
  },
  "language_info": {
   "codemirror_mode": {
    "name": "ipython",
    "version": 3
   },
   "file_extension": ".py",
   "mimetype": "text/x-python",
   "name": "python",
   "nbconvert_exporter": "python",
   "pygments_lexer": "ipython3",
   "version": "3.10.6"
  }
 },
 "nbformat": 4,
 "nbformat_minor": 5
}
