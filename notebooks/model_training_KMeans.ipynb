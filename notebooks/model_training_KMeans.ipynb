{
 "cells": [
  {
   "cell_type": "code",
   "execution_count": 157,
   "id": "35059c39-ea97-42ea-b9bb-d5787df10b9b",
   "metadata": {},
   "outputs": [
    {
     "ename": "ModuleNotFoundError",
     "evalue": "No module named 'plotly'",
     "output_type": "error",
     "traceback": [
      "\u001b[0;31m---------------------------------------------------------------------------\u001b[0m",
      "\u001b[0;31mModuleNotFoundError\u001b[0m                       Traceback (most recent call last)",
      "Cell \u001b[0;32mIn[157], line 8\u001b[0m\n\u001b[1;32m      6\u001b[0m \u001b[38;5;28;01mimport\u001b[39;00m \u001b[38;5;21;01mmatplotlib\u001b[39;00m\u001b[38;5;21;01m.\u001b[39;00m\u001b[38;5;21;01mpyplot\u001b[39;00m \u001b[38;5;28;01mas\u001b[39;00m \u001b[38;5;21;01mplt\u001b[39;00m\n\u001b[1;32m      7\u001b[0m \u001b[38;5;28;01mimport\u001b[39;00m \u001b[38;5;21;01mseaborn\u001b[39;00m \u001b[38;5;28;01mas\u001b[39;00m \u001b[38;5;21;01msns\u001b[39;00m\n\u001b[0;32m----> 8\u001b[0m \u001b[38;5;28;01mimport\u001b[39;00m \u001b[38;5;21;01mplotly\u001b[39;00m\u001b[38;5;21;01m.\u001b[39;00m\u001b[38;5;21;01mexpress\u001b[39;00m \u001b[38;5;28;01mas\u001b[39;00m \u001b[38;5;21;01mpx\u001b[39;00m\n",
      "\u001b[0;31mModuleNotFoundError\u001b[0m: No module named 'plotly'"
     ]
    }
   ],
   "source": [
    "import pandas as pd\n",
    "import numpy as np\n",
    "from sklearn.preprocessing import LabelEncoder\n",
    "from sklearn.preprocessing import OneHotEncoder\n",
    "from sklearn.cluster import KMeans\n",
    "import matplotlib.pyplot as plt\n",
    "import seaborn as sns\n"
   ]
  },
  {
   "cell_type": "code",
   "execution_count": 143,
   "id": "368925ac-ed2f-455c-bae9-a914a40c4f32",
   "metadata": {},
   "outputs": [
    {
     "data": {
      "text/html": [
       "<div>\n",
       "<style scoped>\n",
       "    .dataframe tbody tr th:only-of-type {\n",
       "        vertical-align: middle;\n",
       "    }\n",
       "\n",
       "    .dataframe tbody tr th {\n",
       "        vertical-align: top;\n",
       "    }\n",
       "\n",
       "    .dataframe thead th {\n",
       "        text-align: right;\n",
       "    }\n",
       "</style>\n",
       "<table border=\"1\" class=\"dataframe\">\n",
       "  <thead>\n",
       "    <tr style=\"text-align: right;\">\n",
       "      <th></th>\n",
       "      <th>description</th>\n",
       "      <th>points</th>\n",
       "      <th>price</th>\n",
       "      <th>province</th>\n",
       "      <th>title</th>\n",
       "      <th>winery</th>\n",
       "      <th>variety_adj</th>\n",
       "      <th>type</th>\n",
       "      <th>region</th>\n",
       "    </tr>\n",
       "    <tr>\n",
       "      <th>country</th>\n",
       "      <th></th>\n",
       "      <th></th>\n",
       "      <th></th>\n",
       "      <th></th>\n",
       "      <th></th>\n",
       "      <th></th>\n",
       "      <th></th>\n",
       "      <th></th>\n",
       "      <th></th>\n",
       "    </tr>\n",
       "  </thead>\n",
       "  <tbody>\n",
       "    <tr>\n",
       "      <th>Portugal</th>\n",
       "      <td>This is ripe and fruity, a wine that is smooth...</td>\n",
       "      <td>87</td>\n",
       "      <td>15.0</td>\n",
       "      <td>Douro</td>\n",
       "      <td>Quinta dos Avidagos 2011 Avidagos Red (Douro)</td>\n",
       "      <td>Quinta dos Avidagos</td>\n",
       "      <td>portuguese red</td>\n",
       "      <td>red</td>\n",
       "      <td>Douro</td>\n",
       "    </tr>\n",
       "    <tr>\n",
       "      <th>US</th>\n",
       "      <td>Tart and snappy, the flavors of lime flesh and...</td>\n",
       "      <td>87</td>\n",
       "      <td>14.0</td>\n",
       "      <td>Oregon</td>\n",
       "      <td>Rainstorm 2013 Pinot Gris (Willamette Valley)</td>\n",
       "      <td>Rainstorm</td>\n",
       "      <td>pinot gris</td>\n",
       "      <td>white</td>\n",
       "      <td>Willamette Valley</td>\n",
       "    </tr>\n",
       "    <tr>\n",
       "      <th>US</th>\n",
       "      <td>Pineapple rind, lemon pith and orange blossom ...</td>\n",
       "      <td>87</td>\n",
       "      <td>13.0</td>\n",
       "      <td>Michigan</td>\n",
       "      <td>St. Julian 2013 Reserve Late Harvest Riesling ...</td>\n",
       "      <td>St. Julian</td>\n",
       "      <td>riesling</td>\n",
       "      <td>white</td>\n",
       "      <td>Lake Michigan Shore</td>\n",
       "    </tr>\n",
       "    <tr>\n",
       "      <th>US</th>\n",
       "      <td>Much like the regular bottling from 2012, this...</td>\n",
       "      <td>87</td>\n",
       "      <td>65.0</td>\n",
       "      <td>Oregon</td>\n",
       "      <td>Sweet Cheeks 2012 Vintner's Reserve Wild Child...</td>\n",
       "      <td>Sweet Cheeks</td>\n",
       "      <td>pinot noir</td>\n",
       "      <td>red</td>\n",
       "      <td>Willamette Valley</td>\n",
       "    </tr>\n",
       "    <tr>\n",
       "      <th>Spain</th>\n",
       "      <td>Blackberry and raspberry aromas show a typical...</td>\n",
       "      <td>87</td>\n",
       "      <td>15.0</td>\n",
       "      <td>Northern Spain</td>\n",
       "      <td>Tandem 2011 Ars In Vitro Tempranillo-Merlot (N...</td>\n",
       "      <td>Tandem</td>\n",
       "      <td>tempranillo-merlot</td>\n",
       "      <td>red</td>\n",
       "      <td>Navarra</td>\n",
       "    </tr>\n",
       "  </tbody>\n",
       "</table>\n",
       "</div>"
      ],
      "text/plain": [
       "                                                description  points  price  \\\n",
       "country                                                                      \n",
       "Portugal  This is ripe and fruity, a wine that is smooth...      87   15.0   \n",
       "US        Tart and snappy, the flavors of lime flesh and...      87   14.0   \n",
       "US        Pineapple rind, lemon pith and orange blossom ...      87   13.0   \n",
       "US        Much like the regular bottling from 2012, this...      87   65.0   \n",
       "Spain     Blackberry and raspberry aromas show a typical...      87   15.0   \n",
       "\n",
       "                province                                              title  \\\n",
       "country                                                                       \n",
       "Portugal           Douro      Quinta dos Avidagos 2011 Avidagos Red (Douro)   \n",
       "US                Oregon      Rainstorm 2013 Pinot Gris (Willamette Valley)   \n",
       "US              Michigan  St. Julian 2013 Reserve Late Harvest Riesling ...   \n",
       "US                Oregon  Sweet Cheeks 2012 Vintner's Reserve Wild Child...   \n",
       "Spain     Northern Spain  Tandem 2011 Ars In Vitro Tempranillo-Merlot (N...   \n",
       "\n",
       "                       winery          variety_adj   type               region  \n",
       "country                                                                         \n",
       "Portugal  Quinta dos Avidagos      portuguese red     red                Douro  \n",
       "US                  Rainstorm          pinot gris   white    Willamette Valley  \n",
       "US                 St. Julian            riesling   white  Lake Michigan Shore  \n",
       "US               Sweet Cheeks          pinot noir     red    Willamette Valley  \n",
       "Spain                  Tandem  tempranillo-merlot     red              Navarra  "
      ]
     },
     "execution_count": 143,
     "metadata": {},
     "output_type": "execute_result"
    }
   ],
   "source": [
    "df = pd.read_csv(\"../raw_data/preprocessed_data.csv\", index_col=0)\n",
    "\n",
    "df.head()"
   ]
  },
  {
   "cell_type": "code",
   "execution_count": 144,
   "id": "252dbcc7-72e3-4bae-8a03-7eca37dad642",
   "metadata": {},
   "outputs": [],
   "source": [
    "X=df.drop(columns=['description','title'])\n",
    "X.reset_index(inplace=True)"
   ]
  },
  {
   "cell_type": "code",
   "execution_count": 145,
   "id": "19caa7d5-ea8b-4a97-981e-ec402b4a61c4",
   "metadata": {},
   "outputs": [
    {
     "data": {
      "text/html": [
       "<div>\n",
       "<style scoped>\n",
       "    .dataframe tbody tr th:only-of-type {\n",
       "        vertical-align: middle;\n",
       "    }\n",
       "\n",
       "    .dataframe tbody tr th {\n",
       "        vertical-align: top;\n",
       "    }\n",
       "\n",
       "    .dataframe thead th {\n",
       "        text-align: right;\n",
       "    }\n",
       "</style>\n",
       "<table border=\"1\" class=\"dataframe\">\n",
       "  <thead>\n",
       "    <tr style=\"text-align: right;\">\n",
       "      <th></th>\n",
       "      <th>country</th>\n",
       "      <th>points</th>\n",
       "      <th>price</th>\n",
       "      <th>province</th>\n",
       "      <th>winery</th>\n",
       "      <th>variety_adj</th>\n",
       "      <th>type</th>\n",
       "      <th>region</th>\n",
       "    </tr>\n",
       "  </thead>\n",
       "  <tbody>\n",
       "    <tr>\n",
       "      <th>0</th>\n",
       "      <td>Portugal</td>\n",
       "      <td>87</td>\n",
       "      <td>15.0</td>\n",
       "      <td>Douro</td>\n",
       "      <td>Quinta dos Avidagos</td>\n",
       "      <td>portuguese red</td>\n",
       "      <td>red</td>\n",
       "      <td>Douro</td>\n",
       "    </tr>\n",
       "    <tr>\n",
       "      <th>1</th>\n",
       "      <td>US</td>\n",
       "      <td>87</td>\n",
       "      <td>14.0</td>\n",
       "      <td>Oregon</td>\n",
       "      <td>Rainstorm</td>\n",
       "      <td>pinot gris</td>\n",
       "      <td>white</td>\n",
       "      <td>Willamette Valley</td>\n",
       "    </tr>\n",
       "    <tr>\n",
       "      <th>2</th>\n",
       "      <td>US</td>\n",
       "      <td>87</td>\n",
       "      <td>13.0</td>\n",
       "      <td>Michigan</td>\n",
       "      <td>St. Julian</td>\n",
       "      <td>riesling</td>\n",
       "      <td>white</td>\n",
       "      <td>Lake Michigan Shore</td>\n",
       "    </tr>\n",
       "    <tr>\n",
       "      <th>3</th>\n",
       "      <td>US</td>\n",
       "      <td>87</td>\n",
       "      <td>65.0</td>\n",
       "      <td>Oregon</td>\n",
       "      <td>Sweet Cheeks</td>\n",
       "      <td>pinot noir</td>\n",
       "      <td>red</td>\n",
       "      <td>Willamette Valley</td>\n",
       "    </tr>\n",
       "    <tr>\n",
       "      <th>4</th>\n",
       "      <td>Spain</td>\n",
       "      <td>87</td>\n",
       "      <td>15.0</td>\n",
       "      <td>Northern Spain</td>\n",
       "      <td>Tandem</td>\n",
       "      <td>tempranillo-merlot</td>\n",
       "      <td>red</td>\n",
       "      <td>Navarra</td>\n",
       "    </tr>\n",
       "    <tr>\n",
       "      <th>...</th>\n",
       "      <td>...</td>\n",
       "      <td>...</td>\n",
       "      <td>...</td>\n",
       "      <td>...</td>\n",
       "      <td>...</td>\n",
       "      <td>...</td>\n",
       "      <td>...</td>\n",
       "      <td>...</td>\n",
       "    </tr>\n",
       "    <tr>\n",
       "      <th>111529</th>\n",
       "      <td>Germany</td>\n",
       "      <td>90</td>\n",
       "      <td>28.0</td>\n",
       "      <td>Mosel</td>\n",
       "      <td>Dr. H. Thanisch (Erben MÃ¼ller-Burggraef)</td>\n",
       "      <td>riesling</td>\n",
       "      <td>white</td>\n",
       "      <td>Mosel</td>\n",
       "    </tr>\n",
       "    <tr>\n",
       "      <th>111530</th>\n",
       "      <td>US</td>\n",
       "      <td>90</td>\n",
       "      <td>75.0</td>\n",
       "      <td>Oregon</td>\n",
       "      <td>Citation</td>\n",
       "      <td>pinot noir</td>\n",
       "      <td>red</td>\n",
       "      <td>Oregon</td>\n",
       "    </tr>\n",
       "    <tr>\n",
       "      <th>111531</th>\n",
       "      <td>France</td>\n",
       "      <td>90</td>\n",
       "      <td>30.0</td>\n",
       "      <td>Alsace</td>\n",
       "      <td>Domaine Gresser</td>\n",
       "      <td>gewurztraminer</td>\n",
       "      <td>white</td>\n",
       "      <td>Alsace</td>\n",
       "    </tr>\n",
       "    <tr>\n",
       "      <th>111532</th>\n",
       "      <td>France</td>\n",
       "      <td>90</td>\n",
       "      <td>32.0</td>\n",
       "      <td>Alsace</td>\n",
       "      <td>Domaine Marcel Deiss</td>\n",
       "      <td>pinot gris</td>\n",
       "      <td>white</td>\n",
       "      <td>Alsace</td>\n",
       "    </tr>\n",
       "    <tr>\n",
       "      <th>111533</th>\n",
       "      <td>France</td>\n",
       "      <td>90</td>\n",
       "      <td>21.0</td>\n",
       "      <td>Alsace</td>\n",
       "      <td>Domaine Schoffit</td>\n",
       "      <td>gewurztraminer</td>\n",
       "      <td>white</td>\n",
       "      <td>Alsace</td>\n",
       "    </tr>\n",
       "  </tbody>\n",
       "</table>\n",
       "<p>111534 rows × 8 columns</p>\n",
       "</div>"
      ],
      "text/plain": [
       "         country  points  price        province  \\\n",
       "0       Portugal      87   15.0           Douro   \n",
       "1             US      87   14.0          Oregon   \n",
       "2             US      87   13.0        Michigan   \n",
       "3             US      87   65.0          Oregon   \n",
       "4          Spain      87   15.0  Northern Spain   \n",
       "...          ...     ...    ...             ...   \n",
       "111529   Germany      90   28.0           Mosel   \n",
       "111530        US      90   75.0          Oregon   \n",
       "111531    France      90   30.0          Alsace   \n",
       "111532    France      90   32.0          Alsace   \n",
       "111533    France      90   21.0          Alsace   \n",
       "\n",
       "                                           winery          variety_adj   type  \\\n",
       "0                             Quinta dos Avidagos      portuguese red     red   \n",
       "1                                       Rainstorm          pinot gris   white   \n",
       "2                                      St. Julian            riesling   white   \n",
       "3                                    Sweet Cheeks          pinot noir     red   \n",
       "4                                          Tandem  tempranillo-merlot     red   \n",
       "...                                           ...                  ...    ...   \n",
       "111529  Dr. H. Thanisch (Erben MÃ¼ller-Burggraef)            riesling   white   \n",
       "111530                                   Citation          pinot noir     red   \n",
       "111531                            Domaine Gresser       gewurztraminer  white   \n",
       "111532                       Domaine Marcel Deiss          pinot gris   white   \n",
       "111533                           Domaine Schoffit       gewurztraminer  white   \n",
       "\n",
       "                     region  \n",
       "0                     Douro  \n",
       "1         Willamette Valley  \n",
       "2       Lake Michigan Shore  \n",
       "3         Willamette Valley  \n",
       "4                   Navarra  \n",
       "...                     ...  \n",
       "111529                Mosel  \n",
       "111530               Oregon  \n",
       "111531               Alsace  \n",
       "111532               Alsace  \n",
       "111533               Alsace  \n",
       "\n",
       "[111534 rows x 8 columns]"
      ]
     },
     "execution_count": 145,
     "metadata": {},
     "output_type": "execute_result"
    }
   ],
   "source": [
    "X"
   ]
  },
  {
   "cell_type": "code",
   "execution_count": 146,
   "id": "a9ea16be-eb49-45d9-8b69-5f1113076dad",
   "metadata": {},
   "outputs": [
    {
     "name": "stderr",
     "output_type": "stream",
     "text": [
      "/Users/felipedalcin/.pyenv/versions/3.10.6/envs/WineGen/lib/python3.10/site-packages/sklearn/preprocessing/_encoders.py:975: FutureWarning: `sparse` was renamed to `sparse_output` in version 1.2 and will be removed in 1.4. `sparse_output` is ignored unless you leave `sparse` to its default value.\n",
      "  warnings.warn(\n"
     ]
    },
    {
     "data": {
      "text/html": [
       "<div>\n",
       "<style scoped>\n",
       "    .dataframe tbody tr th:only-of-type {\n",
       "        vertical-align: middle;\n",
       "    }\n",
       "\n",
       "    .dataframe tbody tr th {\n",
       "        vertical-align: top;\n",
       "    }\n",
       "\n",
       "    .dataframe thead th {\n",
       "        text-align: right;\n",
       "    }\n",
       "</style>\n",
       "<table border=\"1\" class=\"dataframe\">\n",
       "  <thead>\n",
       "    <tr style=\"text-align: right;\">\n",
       "      <th></th>\n",
       "      <th>country</th>\n",
       "      <th>points</th>\n",
       "      <th>price</th>\n",
       "      <th>province</th>\n",
       "      <th>winery</th>\n",
       "      <th>variety_adj</th>\n",
       "      <th>region</th>\n",
       "      <th>type_red</th>\n",
       "      <th>type_rosé</th>\n",
       "      <th>type_sparkling</th>\n",
       "      <th>type_white</th>\n",
       "    </tr>\n",
       "  </thead>\n",
       "  <tbody>\n",
       "    <tr>\n",
       "      <th>0</th>\n",
       "      <td>30</td>\n",
       "      <td>87</td>\n",
       "      <td>15.0</td>\n",
       "      <td>106</td>\n",
       "      <td>12188</td>\n",
       "      <td>441</td>\n",
       "      <td>486</td>\n",
       "      <td>1.0</td>\n",
       "      <td>0.0</td>\n",
       "      <td>0.0</td>\n",
       "      <td>0.0</td>\n",
       "    </tr>\n",
       "    <tr>\n",
       "      <th>1</th>\n",
       "      <td>39</td>\n",
       "      <td>87</td>\n",
       "      <td>14.0</td>\n",
       "      <td>265</td>\n",
       "      <td>12248</td>\n",
       "      <td>427</td>\n",
       "      <td>1554</td>\n",
       "      <td>0.0</td>\n",
       "      <td>0.0</td>\n",
       "      <td>0.0</td>\n",
       "      <td>1.0</td>\n",
       "    </tr>\n",
       "    <tr>\n",
       "      <th>2</th>\n",
       "      <td>39</td>\n",
       "      <td>87</td>\n",
       "      <td>13.0</td>\n",
       "      <td>215</td>\n",
       "      <td>13564</td>\n",
       "      <td>470</td>\n",
       "      <td>696</td>\n",
       "      <td>0.0</td>\n",
       "      <td>0.0</td>\n",
       "      <td>0.0</td>\n",
       "      <td>1.0</td>\n",
       "    </tr>\n",
       "    <tr>\n",
       "      <th>3</th>\n",
       "      <td>39</td>\n",
       "      <td>87</td>\n",
       "      <td>65.0</td>\n",
       "      <td>265</td>\n",
       "      <td>13788</td>\n",
       "      <td>431</td>\n",
       "      <td>1554</td>\n",
       "      <td>1.0</td>\n",
       "      <td>0.0</td>\n",
       "      <td>0.0</td>\n",
       "      <td>0.0</td>\n",
       "    </tr>\n",
       "    <tr>\n",
       "      <th>4</th>\n",
       "      <td>36</td>\n",
       "      <td>87</td>\n",
       "      <td>15.0</td>\n",
       "      <td>259</td>\n",
       "      <td>13868</td>\n",
       "      <td>578</td>\n",
       "      <td>955</td>\n",
       "      <td>1.0</td>\n",
       "      <td>0.0</td>\n",
       "      <td>0.0</td>\n",
       "      <td>0.0</td>\n",
       "    </tr>\n",
       "    <tr>\n",
       "      <th>...</th>\n",
       "      <td>...</td>\n",
       "      <td>...</td>\n",
       "      <td>...</td>\n",
       "      <td>...</td>\n",
       "      <td>...</td>\n",
       "      <td>...</td>\n",
       "      <td>...</td>\n",
       "      <td>...</td>\n",
       "      <td>...</td>\n",
       "      <td>...</td>\n",
       "      <td>...</td>\n",
       "    </tr>\n",
       "    <tr>\n",
       "      <th>111529</th>\n",
       "      <td>16</td>\n",
       "      <td>90</td>\n",
       "      <td>28.0</td>\n",
       "      <td>229</td>\n",
       "      <td>6125</td>\n",
       "      <td>470</td>\n",
       "      <td>882</td>\n",
       "      <td>0.0</td>\n",
       "      <td>0.0</td>\n",
       "      <td>0.0</td>\n",
       "      <td>1.0</td>\n",
       "    </tr>\n",
       "    <tr>\n",
       "      <th>111530</th>\n",
       "      <td>39</td>\n",
       "      <td>90</td>\n",
       "      <td>75.0</td>\n",
       "      <td>265</td>\n",
       "      <td>4411</td>\n",
       "      <td>431</td>\n",
       "      <td>999</td>\n",
       "      <td>1.0</td>\n",
       "      <td>0.0</td>\n",
       "      <td>0.0</td>\n",
       "      <td>0.0</td>\n",
       "    </tr>\n",
       "    <tr>\n",
       "      <th>111531</th>\n",
       "      <td>14</td>\n",
       "      <td>90</td>\n",
       "      <td>30.0</td>\n",
       "      <td>11</td>\n",
       "      <td>5493</td>\n",
       "      <td>205</td>\n",
       "      <td>32</td>\n",
       "      <td>0.0</td>\n",
       "      <td>0.0</td>\n",
       "      <td>0.0</td>\n",
       "      <td>1.0</td>\n",
       "    </tr>\n",
       "    <tr>\n",
       "      <th>111532</th>\n",
       "      <td>14</td>\n",
       "      <td>90</td>\n",
       "      <td>32.0</td>\n",
       "      <td>11</td>\n",
       "      <td>5579</td>\n",
       "      <td>427</td>\n",
       "      <td>32</td>\n",
       "      <td>0.0</td>\n",
       "      <td>0.0</td>\n",
       "      <td>0.0</td>\n",
       "      <td>1.0</td>\n",
       "    </tr>\n",
       "    <tr>\n",
       "      <th>111533</th>\n",
       "      <td>14</td>\n",
       "      <td>90</td>\n",
       "      <td>21.0</td>\n",
       "      <td>11</td>\n",
       "      <td>5686</td>\n",
       "      <td>205</td>\n",
       "      <td>32</td>\n",
       "      <td>0.0</td>\n",
       "      <td>0.0</td>\n",
       "      <td>0.0</td>\n",
       "      <td>1.0</td>\n",
       "    </tr>\n",
       "  </tbody>\n",
       "</table>\n",
       "<p>111534 rows × 11 columns</p>\n",
       "</div>"
      ],
      "text/plain": [
       "        country  points  price  province  winery  variety_adj  region  \\\n",
       "0            30      87   15.0       106   12188          441     486   \n",
       "1            39      87   14.0       265   12248          427    1554   \n",
       "2            39      87   13.0       215   13564          470     696   \n",
       "3            39      87   65.0       265   13788          431    1554   \n",
       "4            36      87   15.0       259   13868          578     955   \n",
       "...         ...     ...    ...       ...     ...          ...     ...   \n",
       "111529       16      90   28.0       229    6125          470     882   \n",
       "111530       39      90   75.0       265    4411          431     999   \n",
       "111531       14      90   30.0        11    5493          205      32   \n",
       "111532       14      90   32.0        11    5579          427      32   \n",
       "111533       14      90   21.0        11    5686          205      32   \n",
       "\n",
       "        type_red  type_rosé  type_sparkling  type_white  \n",
       "0            1.0        0.0             0.0         0.0  \n",
       "1            0.0        0.0             0.0         1.0  \n",
       "2            0.0        0.0             0.0         1.0  \n",
       "3            1.0        0.0             0.0         0.0  \n",
       "4            1.0        0.0             0.0         0.0  \n",
       "...          ...        ...             ...         ...  \n",
       "111529       0.0        0.0             0.0         1.0  \n",
       "111530       1.0        0.0             0.0         0.0  \n",
       "111531       0.0        0.0             0.0         1.0  \n",
       "111532       0.0        0.0             0.0         1.0  \n",
       "111533       0.0        0.0             0.0         1.0  \n",
       "\n",
       "[111534 rows x 11 columns]"
      ]
     },
     "execution_count": 146,
     "metadata": {},
     "output_type": "execute_result"
    }
   ],
   "source": [
    "label_encoder_country = LabelEncoder()\n",
    "label_encoder_province = LabelEncoder()\n",
    "label_encoder_winery = LabelEncoder()\n",
    "label_encoder_variety = LabelEncoder()\n",
    "label_encoder_region = LabelEncoder()\n",
    "one_hot_encoder_type = OneHotEncoder(sparse=False)\n",
    "\n",
    "X['country'] = label_encoder_country.fit_transform(X['country'])\n",
    "X['province'] = label_encoder_province.fit_transform(X['province'])\n",
    "X['winery'] = label_encoder_winery.fit_transform(X['winery'])\n",
    "X['variety_adj'] = label_encoder_variety.fit_transform(X['variety_adj'])\n",
    "X['region'] = label_encoder_region.fit_transform(X['region'])\n",
    "\n",
    "type_encoded = one_hot_encoder_type.fit_transform(X[['type']])\n",
    "type_categories = one_hot_encoder_type.get_feature_names_out(['type'])\n",
    "type_encoded=pd.DataFrame(type_encoded)\n",
    "X[type_categories] = type_encoded\n",
    "X.drop(columns=['type'], inplace=True)\n",
    "X"
   ]
  },
  {
   "cell_type": "code",
   "execution_count": 147,
   "id": "06cc2873-367b-41cd-8842-258bf0440b6f",
   "metadata": {},
   "outputs": [],
   "source": [
    "kmeans = KMeans(n_clusters=500, random_state=0, n_init=\"auto\").fit(X)"
   ]
  },
  {
   "cell_type": "code",
   "execution_count": 148,
   "id": "6843192b-7cfe-40ab-9464-7654cb5678a6",
   "metadata": {},
   "outputs": [],
   "source": [
    "# new_X = X.sample(5)\n",
    "\n",
    "\n",
    "pred = kmeans.predict(X)"
   ]
  },
  {
   "cell_type": "code",
   "execution_count": 149,
   "id": "db2d4145-12a8-48e1-8d19-f958ccc8e307",
   "metadata": {
    "scrolled": true
   },
   "outputs": [
    {
     "data": {
      "text/plain": [
       "57     625\n",
       "63     596\n",
       "134    523\n",
       "11     496\n",
       "303    477\n",
       "      ... \n",
       "485     82\n",
       "127     58\n",
       "428     32\n",
       "272     11\n",
       "365      2\n",
       "Name: count, Length: 500, dtype: int64"
      ]
     },
     "execution_count": 149,
     "metadata": {},
     "output_type": "execute_result"
    }
   ],
   "source": [
    "pred=pd.DataFrame(pred)\n",
    "pred.value_counts()"
   ]
  },
  {
   "cell_type": "code",
   "execution_count": 150,
   "id": "7fe3e954-514c-4dad-87aa-2fa9dcd78701",
   "metadata": {},
   "outputs": [
    {
     "data": {
      "text/html": [
       "<div>\n",
       "<style scoped>\n",
       "    .dataframe tbody tr th:only-of-type {\n",
       "        vertical-align: middle;\n",
       "    }\n",
       "\n",
       "    .dataframe tbody tr th {\n",
       "        vertical-align: top;\n",
       "    }\n",
       "\n",
       "    .dataframe thead th {\n",
       "        text-align: right;\n",
       "    }\n",
       "</style>\n",
       "<table border=\"1\" class=\"dataframe\">\n",
       "  <thead>\n",
       "    <tr style=\"text-align: right;\">\n",
       "      <th></th>\n",
       "      <th>description</th>\n",
       "      <th>points</th>\n",
       "      <th>price</th>\n",
       "      <th>province</th>\n",
       "      <th>title</th>\n",
       "      <th>winery</th>\n",
       "      <th>variety_adj</th>\n",
       "      <th>type</th>\n",
       "      <th>region</th>\n",
       "    </tr>\n",
       "    <tr>\n",
       "      <th>country</th>\n",
       "      <th></th>\n",
       "      <th></th>\n",
       "      <th></th>\n",
       "      <th></th>\n",
       "      <th></th>\n",
       "      <th></th>\n",
       "      <th></th>\n",
       "      <th></th>\n",
       "      <th></th>\n",
       "    </tr>\n",
       "  </thead>\n",
       "  <tbody>\n",
       "    <tr>\n",
       "      <th>Mexico</th>\n",
       "      <td>The color is appropriately light, the aromas a...</td>\n",
       "      <td>88</td>\n",
       "      <td>18.0</td>\n",
       "      <td>Valle de Guadalupe</td>\n",
       "      <td>L.A. Cetto 1996 Private Reserve Nebbiolo (Vall...</td>\n",
       "      <td>L.A. Cetto</td>\n",
       "      <td>nebbiolo</td>\n",
       "      <td>red</td>\n",
       "      <td>Valle de Guadalupe</td>\n",
       "    </tr>\n",
       "    <tr>\n",
       "      <th>US</th>\n",
       "      <td>Despite the abv listed, this wine does not see...</td>\n",
       "      <td>86</td>\n",
       "      <td>36.0</td>\n",
       "      <td>Washington</td>\n",
       "      <td>Kontos 2011 Les Collines Vineyard Syrah (Walla...</td>\n",
       "      <td>Kontos</td>\n",
       "      <td>syrah</td>\n",
       "      <td>red</td>\n",
       "      <td>Walla Walla Valley (WA)</td>\n",
       "    </tr>\n",
       "    <tr>\n",
       "      <th>US</th>\n",
       "      <td>The aromas are light, with notes of white flow...</td>\n",
       "      <td>84</td>\n",
       "      <td>21.0</td>\n",
       "      <td>Washington</td>\n",
       "      <td>Kestrel 2015 Falcon Series Estate Viognier (Ya...</td>\n",
       "      <td>Kestrel</td>\n",
       "      <td>viognier</td>\n",
       "      <td>white</td>\n",
       "      <td>Yakima Valley</td>\n",
       "    </tr>\n",
       "    <tr>\n",
       "      <th>Italy</th>\n",
       "      <td>This deeply saturated wine opens with a nice b...</td>\n",
       "      <td>90</td>\n",
       "      <td>32.0</td>\n",
       "      <td>Tuscany</td>\n",
       "      <td>La Calonica 2006  Vino Nobile di Montepulciano</td>\n",
       "      <td>La Calonica</td>\n",
       "      <td>prugnolo gentile</td>\n",
       "      <td>red</td>\n",
       "      <td>Vino Nobile di Montepulciano</td>\n",
       "    </tr>\n",
       "    <tr>\n",
       "      <th>US</th>\n",
       "      <td>This wine is mostly SÃ©millon, with Sauvignon ...</td>\n",
       "      <td>90</td>\n",
       "      <td>20.0</td>\n",
       "      <td>Washington</td>\n",
       "      <td>L'Ecole No. 41 2012 Seven Hills Vineyard Estat...</td>\n",
       "      <td>L'Ecole No. 41</td>\n",
       "      <td>semillon-sauvignon blanc</td>\n",
       "      <td>white</td>\n",
       "      <td>Walla Walla Valley (WA)</td>\n",
       "    </tr>\n",
       "    <tr>\n",
       "      <th>...</th>\n",
       "      <td>...</td>\n",
       "      <td>...</td>\n",
       "      <td>...</td>\n",
       "      <td>...</td>\n",
       "      <td>...</td>\n",
       "      <td>...</td>\n",
       "      <td>...</td>\n",
       "      <td>...</td>\n",
       "      <td>...</td>\n",
       "    </tr>\n",
       "    <tr>\n",
       "      <th>US</th>\n",
       "      <td>Coming off the Rocks District, this wine displ...</td>\n",
       "      <td>94</td>\n",
       "      <td>60.0</td>\n",
       "      <td>Washington</td>\n",
       "      <td>K Vintners 2013 Rock Garden Syrah (Walla Walla...</td>\n",
       "      <td>K Vintners</td>\n",
       "      <td>syrah</td>\n",
       "      <td>red</td>\n",
       "      <td>Walla Walla Valley (WA)</td>\n",
       "    </tr>\n",
       "    <tr>\n",
       "      <th>US</th>\n",
       "      <td>The aromas start out reticent, with notes of b...</td>\n",
       "      <td>94</td>\n",
       "      <td>70.0</td>\n",
       "      <td>Washington</td>\n",
       "      <td>K Vintners 2013 Klein Syrah (Walla Walla Valle...</td>\n",
       "      <td>K Vintners</td>\n",
       "      <td>syrah</td>\n",
       "      <td>red</td>\n",
       "      <td>Walla Walla Valley (WA)</td>\n",
       "    </tr>\n",
       "    <tr>\n",
       "      <th>Greece</th>\n",
       "      <td>Clove, menthol, herb and spice give this fresh...</td>\n",
       "      <td>87</td>\n",
       "      <td>22.0</td>\n",
       "      <td>Vin de Pays de Velvendo</td>\n",
       "      <td>Ktima Voyatzi 2010 Dry Red (Vin de Pays de Vel...</td>\n",
       "      <td>Ktima Voyatzi</td>\n",
       "      <td>red blend</td>\n",
       "      <td>red</td>\n",
       "      <td>Vin de Pays de Velvendo</td>\n",
       "    </tr>\n",
       "    <tr>\n",
       "      <th>US</th>\n",
       "      <td>A lovely hue, this is scented with crushed ros...</td>\n",
       "      <td>94</td>\n",
       "      <td>63.0</td>\n",
       "      <td>Oregon</td>\n",
       "      <td>Ken Wright 2014 McCrone Vineyard Pinot Noir</td>\n",
       "      <td>Ken Wright</td>\n",
       "      <td>pinot noir</td>\n",
       "      <td>red</td>\n",
       "      <td>Willamette Valley</td>\n",
       "    </tr>\n",
       "    <tr>\n",
       "      <th>US</th>\n",
       "      <td>Principally Cabernet Sauvignon, this also hold...</td>\n",
       "      <td>91</td>\n",
       "      <td>36.0</td>\n",
       "      <td>Washington</td>\n",
       "      <td>Kontos 2011 Alatus Blend Red (Walla Walla Vall...</td>\n",
       "      <td>Kontos</td>\n",
       "      <td>red blend</td>\n",
       "      <td>red</td>\n",
       "      <td>Walla Walla Valley (WA)</td>\n",
       "    </tr>\n",
       "  </tbody>\n",
       "</table>\n",
       "<p>317 rows × 9 columns</p>\n",
       "</div>"
      ],
      "text/plain": [
       "                                               description  points  price  \\\n",
       "country                                                                     \n",
       "Mexico   The color is appropriately light, the aromas a...      88   18.0   \n",
       "US       Despite the abv listed, this wine does not see...      86   36.0   \n",
       "US       The aromas are light, with notes of white flow...      84   21.0   \n",
       "Italy    This deeply saturated wine opens with a nice b...      90   32.0   \n",
       "US       This wine is mostly SÃ©millon, with Sauvignon ...      90   20.0   \n",
       "...                                                    ...     ...    ...   \n",
       "US       Coming off the Rocks District, this wine displ...      94   60.0   \n",
       "US       The aromas start out reticent, with notes of b...      94   70.0   \n",
       "Greece   Clove, menthol, herb and spice give this fresh...      87   22.0   \n",
       "US       A lovely hue, this is scented with crushed ros...      94   63.0   \n",
       "US       Principally Cabernet Sauvignon, this also hold...      91   36.0   \n",
       "\n",
       "                        province  \\\n",
       "country                            \n",
       "Mexico        Valle de Guadalupe   \n",
       "US                    Washington   \n",
       "US                    Washington   \n",
       "Italy                    Tuscany   \n",
       "US                    Washington   \n",
       "...                          ...   \n",
       "US                    Washington   \n",
       "US                    Washington   \n",
       "Greece   Vin de Pays de Velvendo   \n",
       "US                        Oregon   \n",
       "US                    Washington   \n",
       "\n",
       "                                                     title          winery  \\\n",
       "country                                                                      \n",
       "Mexico   L.A. Cetto 1996 Private Reserve Nebbiolo (Vall...      L.A. Cetto   \n",
       "US       Kontos 2011 Les Collines Vineyard Syrah (Walla...          Kontos   \n",
       "US       Kestrel 2015 Falcon Series Estate Viognier (Ya...         Kestrel   \n",
       "Italy       La Calonica 2006  Vino Nobile di Montepulciano     La Calonica   \n",
       "US       L'Ecole No. 41 2012 Seven Hills Vineyard Estat...  L'Ecole No. 41   \n",
       "...                                                    ...             ...   \n",
       "US       K Vintners 2013 Rock Garden Syrah (Walla Walla...      K Vintners   \n",
       "US       K Vintners 2013 Klein Syrah (Walla Walla Valle...      K Vintners   \n",
       "Greece   Ktima Voyatzi 2010 Dry Red (Vin de Pays de Vel...   Ktima Voyatzi   \n",
       "US             Ken Wright 2014 McCrone Vineyard Pinot Noir      Ken Wright   \n",
       "US       Kontos 2011 Alatus Blend Red (Walla Walla Vall...          Kontos   \n",
       "\n",
       "                       variety_adj   type                        region  \n",
       "country                                                                  \n",
       "Mexico                   nebbiolo     red            Valle de Guadalupe  \n",
       "US                          syrah     red       Walla Walla Valley (WA)  \n",
       "US                        viognier  white                 Yakima Valley  \n",
       "Italy            prugnolo gentile     red  Vino Nobile di Montepulciano  \n",
       "US       semillon-sauvignon blanc   white       Walla Walla Valley (WA)  \n",
       "...                            ...    ...                           ...  \n",
       "US                          syrah     red       Walla Walla Valley (WA)  \n",
       "US                          syrah     red       Walla Walla Valley (WA)  \n",
       "Greece                  red blend     red       Vin de Pays de Velvendo  \n",
       "US                     pinot noir     red             Willamette Valley  \n",
       "US                      red blend     red       Walla Walla Valley (WA)  \n",
       "\n",
       "[317 rows x 9 columns]"
      ]
     },
     "execution_count": 150,
     "metadata": {},
     "output_type": "execute_result"
    }
   ],
   "source": [
    "df.iloc[pred[pred[0]==20].index]"
   ]
  },
  {
   "cell_type": "code",
   "execution_count": 167,
   "id": "3264faf1-a0b2-4bbf-b09e-f5a63d79973f",
   "metadata": {},
   "outputs": [
    {
     "name": "stdout",
     "output_type": "stream",
     "text": [
      "working with 1 clusters...\n"
     ]
    },
    {
     "name": "stderr",
     "output_type": "stream",
     "text": [
      "/Users/felipedalcin/.pyenv/versions/3.10.6/envs/WineGen/lib/python3.10/site-packages/sklearn/cluster/_kmeans.py:1416: FutureWarning: The default value of `n_init` will change from 10 to 'auto' in 1.4. Set the value of `n_init` explicitly to suppress the warning\n",
      "  super()._check_params_vs_input(X, default_n_init=10)\n"
     ]
    },
    {
     "name": "stdout",
     "output_type": "stream",
     "text": [
      "working with 2 clusters...\n"
     ]
    },
    {
     "name": "stderr",
     "output_type": "stream",
     "text": [
      "/Users/felipedalcin/.pyenv/versions/3.10.6/envs/WineGen/lib/python3.10/site-packages/sklearn/cluster/_kmeans.py:1416: FutureWarning: The default value of `n_init` will change from 10 to 'auto' in 1.4. Set the value of `n_init` explicitly to suppress the warning\n",
      "  super()._check_params_vs_input(X, default_n_init=10)\n"
     ]
    },
    {
     "name": "stdout",
     "output_type": "stream",
     "text": [
      "working with 3 clusters...\n"
     ]
    },
    {
     "name": "stderr",
     "output_type": "stream",
     "text": [
      "/Users/felipedalcin/.pyenv/versions/3.10.6/envs/WineGen/lib/python3.10/site-packages/sklearn/cluster/_kmeans.py:1416: FutureWarning: The default value of `n_init` will change from 10 to 'auto' in 1.4. Set the value of `n_init` explicitly to suppress the warning\n",
      "  super()._check_params_vs_input(X, default_n_init=10)\n"
     ]
    },
    {
     "name": "stdout",
     "output_type": "stream",
     "text": [
      "working with 4 clusters...\n"
     ]
    },
    {
     "name": "stderr",
     "output_type": "stream",
     "text": [
      "/Users/felipedalcin/.pyenv/versions/3.10.6/envs/WineGen/lib/python3.10/site-packages/sklearn/cluster/_kmeans.py:1416: FutureWarning: The default value of `n_init` will change from 10 to 'auto' in 1.4. Set the value of `n_init` explicitly to suppress the warning\n",
      "  super()._check_params_vs_input(X, default_n_init=10)\n"
     ]
    },
    {
     "name": "stdout",
     "output_type": "stream",
     "text": [
      "working with 5 clusters...\n"
     ]
    },
    {
     "name": "stderr",
     "output_type": "stream",
     "text": [
      "/Users/felipedalcin/.pyenv/versions/3.10.6/envs/WineGen/lib/python3.10/site-packages/sklearn/cluster/_kmeans.py:1416: FutureWarning: The default value of `n_init` will change from 10 to 'auto' in 1.4. Set the value of `n_init` explicitly to suppress the warning\n",
      "  super()._check_params_vs_input(X, default_n_init=10)\n"
     ]
    },
    {
     "name": "stdout",
     "output_type": "stream",
     "text": [
      "working with 6 clusters...\n"
     ]
    },
    {
     "name": "stderr",
     "output_type": "stream",
     "text": [
      "/Users/felipedalcin/.pyenv/versions/3.10.6/envs/WineGen/lib/python3.10/site-packages/sklearn/cluster/_kmeans.py:1416: FutureWarning: The default value of `n_init` will change from 10 to 'auto' in 1.4. Set the value of `n_init` explicitly to suppress the warning\n",
      "  super()._check_params_vs_input(X, default_n_init=10)\n"
     ]
    },
    {
     "name": "stdout",
     "output_type": "stream",
     "text": [
      "working with 7 clusters...\n"
     ]
    },
    {
     "name": "stderr",
     "output_type": "stream",
     "text": [
      "/Users/felipedalcin/.pyenv/versions/3.10.6/envs/WineGen/lib/python3.10/site-packages/sklearn/cluster/_kmeans.py:1416: FutureWarning: The default value of `n_init` will change from 10 to 'auto' in 1.4. Set the value of `n_init` explicitly to suppress the warning\n",
      "  super()._check_params_vs_input(X, default_n_init=10)\n"
     ]
    },
    {
     "name": "stdout",
     "output_type": "stream",
     "text": [
      "working with 8 clusters...\n"
     ]
    },
    {
     "name": "stderr",
     "output_type": "stream",
     "text": [
      "/Users/felipedalcin/.pyenv/versions/3.10.6/envs/WineGen/lib/python3.10/site-packages/sklearn/cluster/_kmeans.py:1416: FutureWarning: The default value of `n_init` will change from 10 to 'auto' in 1.4. Set the value of `n_init` explicitly to suppress the warning\n",
      "  super()._check_params_vs_input(X, default_n_init=10)\n"
     ]
    },
    {
     "name": "stdout",
     "output_type": "stream",
     "text": [
      "working with 9 clusters...\n"
     ]
    },
    {
     "name": "stderr",
     "output_type": "stream",
     "text": [
      "/Users/felipedalcin/.pyenv/versions/3.10.6/envs/WineGen/lib/python3.10/site-packages/sklearn/cluster/_kmeans.py:1416: FutureWarning: The default value of `n_init` will change from 10 to 'auto' in 1.4. Set the value of `n_init` explicitly to suppress the warning\n",
      "  super()._check_params_vs_input(X, default_n_init=10)\n"
     ]
    },
    {
     "name": "stdout",
     "output_type": "stream",
     "text": [
      "working with 10 clusters...\n"
     ]
    },
    {
     "name": "stderr",
     "output_type": "stream",
     "text": [
      "/Users/felipedalcin/.pyenv/versions/3.10.6/envs/WineGen/lib/python3.10/site-packages/sklearn/cluster/_kmeans.py:1416: FutureWarning: The default value of `n_init` will change from 10 to 'auto' in 1.4. Set the value of `n_init` explicitly to suppress the warning\n",
      "  super()._check_params_vs_input(X, default_n_init=10)\n"
     ]
    },
    {
     "name": "stdout",
     "output_type": "stream",
     "text": [
      "working with 11 clusters...\n"
     ]
    },
    {
     "name": "stderr",
     "output_type": "stream",
     "text": [
      "/Users/felipedalcin/.pyenv/versions/3.10.6/envs/WineGen/lib/python3.10/site-packages/sklearn/cluster/_kmeans.py:1416: FutureWarning: The default value of `n_init` will change from 10 to 'auto' in 1.4. Set the value of `n_init` explicitly to suppress the warning\n",
      "  super()._check_params_vs_input(X, default_n_init=10)\n"
     ]
    },
    {
     "name": "stdout",
     "output_type": "stream",
     "text": [
      "working with 12 clusters...\n"
     ]
    },
    {
     "name": "stderr",
     "output_type": "stream",
     "text": [
      "/Users/felipedalcin/.pyenv/versions/3.10.6/envs/WineGen/lib/python3.10/site-packages/sklearn/cluster/_kmeans.py:1416: FutureWarning: The default value of `n_init` will change from 10 to 'auto' in 1.4. Set the value of `n_init` explicitly to suppress the warning\n",
      "  super()._check_params_vs_input(X, default_n_init=10)\n"
     ]
    },
    {
     "name": "stdout",
     "output_type": "stream",
     "text": [
      "working with 13 clusters...\n"
     ]
    },
    {
     "name": "stderr",
     "output_type": "stream",
     "text": [
      "/Users/felipedalcin/.pyenv/versions/3.10.6/envs/WineGen/lib/python3.10/site-packages/sklearn/cluster/_kmeans.py:1416: FutureWarning: The default value of `n_init` will change from 10 to 'auto' in 1.4. Set the value of `n_init` explicitly to suppress the warning\n",
      "  super()._check_params_vs_input(X, default_n_init=10)\n"
     ]
    },
    {
     "name": "stdout",
     "output_type": "stream",
     "text": [
      "working with 14 clusters...\n"
     ]
    },
    {
     "name": "stderr",
     "output_type": "stream",
     "text": [
      "/Users/felipedalcin/.pyenv/versions/3.10.6/envs/WineGen/lib/python3.10/site-packages/sklearn/cluster/_kmeans.py:1416: FutureWarning: The default value of `n_init` will change from 10 to 'auto' in 1.4. Set the value of `n_init` explicitly to suppress the warning\n",
      "  super()._check_params_vs_input(X, default_n_init=10)\n"
     ]
    },
    {
     "name": "stdout",
     "output_type": "stream",
     "text": [
      "working with 15 clusters...\n"
     ]
    },
    {
     "name": "stderr",
     "output_type": "stream",
     "text": [
      "/Users/felipedalcin/.pyenv/versions/3.10.6/envs/WineGen/lib/python3.10/site-packages/sklearn/cluster/_kmeans.py:1416: FutureWarning: The default value of `n_init` will change from 10 to 'auto' in 1.4. Set the value of `n_init` explicitly to suppress the warning\n",
      "  super()._check_params_vs_input(X, default_n_init=10)\n"
     ]
    },
    {
     "name": "stdout",
     "output_type": "stream",
     "text": [
      "working with 16 clusters...\n"
     ]
    },
    {
     "name": "stderr",
     "output_type": "stream",
     "text": [
      "/Users/felipedalcin/.pyenv/versions/3.10.6/envs/WineGen/lib/python3.10/site-packages/sklearn/cluster/_kmeans.py:1416: FutureWarning: The default value of `n_init` will change from 10 to 'auto' in 1.4. Set the value of `n_init` explicitly to suppress the warning\n",
      "  super()._check_params_vs_input(X, default_n_init=10)\n"
     ]
    },
    {
     "name": "stdout",
     "output_type": "stream",
     "text": [
      "working with 17 clusters...\n"
     ]
    },
    {
     "name": "stderr",
     "output_type": "stream",
     "text": [
      "/Users/felipedalcin/.pyenv/versions/3.10.6/envs/WineGen/lib/python3.10/site-packages/sklearn/cluster/_kmeans.py:1416: FutureWarning: The default value of `n_init` will change from 10 to 'auto' in 1.4. Set the value of `n_init` explicitly to suppress the warning\n",
      "  super()._check_params_vs_input(X, default_n_init=10)\n"
     ]
    },
    {
     "name": "stdout",
     "output_type": "stream",
     "text": [
      "working with 18 clusters...\n"
     ]
    },
    {
     "name": "stderr",
     "output_type": "stream",
     "text": [
      "/Users/felipedalcin/.pyenv/versions/3.10.6/envs/WineGen/lib/python3.10/site-packages/sklearn/cluster/_kmeans.py:1416: FutureWarning: The default value of `n_init` will change from 10 to 'auto' in 1.4. Set the value of `n_init` explicitly to suppress the warning\n",
      "  super()._check_params_vs_input(X, default_n_init=10)\n"
     ]
    },
    {
     "name": "stdout",
     "output_type": "stream",
     "text": [
      "working with 19 clusters...\n"
     ]
    },
    {
     "name": "stderr",
     "output_type": "stream",
     "text": [
      "/Users/felipedalcin/.pyenv/versions/3.10.6/envs/WineGen/lib/python3.10/site-packages/sklearn/cluster/_kmeans.py:1416: FutureWarning: The default value of `n_init` will change from 10 to 'auto' in 1.4. Set the value of `n_init` explicitly to suppress the warning\n",
      "  super()._check_params_vs_input(X, default_n_init=10)\n"
     ]
    },
    {
     "name": "stdout",
     "output_type": "stream",
     "text": [
      "working with 20 clusters...\n"
     ]
    },
    {
     "name": "stderr",
     "output_type": "stream",
     "text": [
      "/Users/felipedalcin/.pyenv/versions/3.10.6/envs/WineGen/lib/python3.10/site-packages/sklearn/cluster/_kmeans.py:1416: FutureWarning: The default value of `n_init` will change from 10 to 'auto' in 1.4. Set the value of `n_init` explicitly to suppress the warning\n",
      "  super()._check_params_vs_input(X, default_n_init=10)\n"
     ]
    },
    {
     "name": "stdout",
     "output_type": "stream",
     "text": [
      "working with 21 clusters...\n"
     ]
    },
    {
     "name": "stderr",
     "output_type": "stream",
     "text": [
      "/Users/felipedalcin/.pyenv/versions/3.10.6/envs/WineGen/lib/python3.10/site-packages/sklearn/cluster/_kmeans.py:1416: FutureWarning: The default value of `n_init` will change from 10 to 'auto' in 1.4. Set the value of `n_init` explicitly to suppress the warning\n",
      "  super()._check_params_vs_input(X, default_n_init=10)\n"
     ]
    },
    {
     "name": "stdout",
     "output_type": "stream",
     "text": [
      "working with 22 clusters...\n"
     ]
    },
    {
     "name": "stderr",
     "output_type": "stream",
     "text": [
      "/Users/felipedalcin/.pyenv/versions/3.10.6/envs/WineGen/lib/python3.10/site-packages/sklearn/cluster/_kmeans.py:1416: FutureWarning: The default value of `n_init` will change from 10 to 'auto' in 1.4. Set the value of `n_init` explicitly to suppress the warning\n",
      "  super()._check_params_vs_input(X, default_n_init=10)\n"
     ]
    },
    {
     "name": "stdout",
     "output_type": "stream",
     "text": [
      "working with 23 clusters...\n"
     ]
    },
    {
     "name": "stderr",
     "output_type": "stream",
     "text": [
      "/Users/felipedalcin/.pyenv/versions/3.10.6/envs/WineGen/lib/python3.10/site-packages/sklearn/cluster/_kmeans.py:1416: FutureWarning: The default value of `n_init` will change from 10 to 'auto' in 1.4. Set the value of `n_init` explicitly to suppress the warning\n",
      "  super()._check_params_vs_input(X, default_n_init=10)\n"
     ]
    },
    {
     "name": "stdout",
     "output_type": "stream",
     "text": [
      "working with 24 clusters...\n"
     ]
    },
    {
     "name": "stderr",
     "output_type": "stream",
     "text": [
      "/Users/felipedalcin/.pyenv/versions/3.10.6/envs/WineGen/lib/python3.10/site-packages/sklearn/cluster/_kmeans.py:1416: FutureWarning: The default value of `n_init` will change from 10 to 'auto' in 1.4. Set the value of `n_init` explicitly to suppress the warning\n",
      "  super()._check_params_vs_input(X, default_n_init=10)\n"
     ]
    },
    {
     "name": "stdout",
     "output_type": "stream",
     "text": [
      "working with 25 clusters...\n"
     ]
    },
    {
     "name": "stderr",
     "output_type": "stream",
     "text": [
      "/Users/felipedalcin/.pyenv/versions/3.10.6/envs/WineGen/lib/python3.10/site-packages/sklearn/cluster/_kmeans.py:1416: FutureWarning: The default value of `n_init` will change from 10 to 'auto' in 1.4. Set the value of `n_init` explicitly to suppress the warning\n",
      "  super()._check_params_vs_input(X, default_n_init=10)\n"
     ]
    },
    {
     "name": "stdout",
     "output_type": "stream",
     "text": [
      "working with 26 clusters...\n"
     ]
    },
    {
     "name": "stderr",
     "output_type": "stream",
     "text": [
      "/Users/felipedalcin/.pyenv/versions/3.10.6/envs/WineGen/lib/python3.10/site-packages/sklearn/cluster/_kmeans.py:1416: FutureWarning: The default value of `n_init` will change from 10 to 'auto' in 1.4. Set the value of `n_init` explicitly to suppress the warning\n",
      "  super()._check_params_vs_input(X, default_n_init=10)\n"
     ]
    },
    {
     "name": "stdout",
     "output_type": "stream",
     "text": [
      "working with 27 clusters...\n"
     ]
    },
    {
     "name": "stderr",
     "output_type": "stream",
     "text": [
      "/Users/felipedalcin/.pyenv/versions/3.10.6/envs/WineGen/lib/python3.10/site-packages/sklearn/cluster/_kmeans.py:1416: FutureWarning: The default value of `n_init` will change from 10 to 'auto' in 1.4. Set the value of `n_init` explicitly to suppress the warning\n",
      "  super()._check_params_vs_input(X, default_n_init=10)\n"
     ]
    },
    {
     "name": "stdout",
     "output_type": "stream",
     "text": [
      "working with 28 clusters...\n"
     ]
    },
    {
     "name": "stderr",
     "output_type": "stream",
     "text": [
      "/Users/felipedalcin/.pyenv/versions/3.10.6/envs/WineGen/lib/python3.10/site-packages/sklearn/cluster/_kmeans.py:1416: FutureWarning: The default value of `n_init` will change from 10 to 'auto' in 1.4. Set the value of `n_init` explicitly to suppress the warning\n",
      "  super()._check_params_vs_input(X, default_n_init=10)\n"
     ]
    },
    {
     "name": "stdout",
     "output_type": "stream",
     "text": [
      "working with 29 clusters...\n"
     ]
    },
    {
     "name": "stderr",
     "output_type": "stream",
     "text": [
      "/Users/felipedalcin/.pyenv/versions/3.10.6/envs/WineGen/lib/python3.10/site-packages/sklearn/cluster/_kmeans.py:1416: FutureWarning: The default value of `n_init` will change from 10 to 'auto' in 1.4. Set the value of `n_init` explicitly to suppress the warning\n",
      "  super()._check_params_vs_input(X, default_n_init=10)\n"
     ]
    },
    {
     "name": "stdout",
     "output_type": "stream",
     "text": [
      "DONE !\n"
     ]
    }
   ],
   "source": [
    "nb_clusters_to_try = np.arange(1,30,1)\n",
    "wcss = []\n",
    "\n",
    "for K in nb_clusters_to_try:\n",
    "    print('working with ' + str(K) + ' clusters...', flush=True)\n",
    "    kmeans = KMeans(n_clusters = K)\n",
    "    kmeans.fit(X)\n",
    "    wcss.append(kmeans.inertia_)\n",
    "print(\"DONE !\")"
   ]
  },
  {
   "cell_type": "code",
   "execution_count": 168,
   "id": "685e8ad9-ed31-406d-a60e-e0bc1a3bbba3",
   "metadata": {},
   "outputs": [
    {
     "data": {
      "image/png": "[encoded data removed]",
      "text/plain": [
       "<Figure size 2000x1000 with 1 Axes>"
      ]
     },
     "metadata": {},
     "output_type": "display_data"
    }
   ],
   "source": [
    "elbow_highlight = 11\n",
    "\n",
    "with plt.style.context('default'):\n",
    "    # figsize\n",
    "    plt.figure(figsize=(20,10))\n",
    "    # getting axes\n",
    "    ax = plt.gca()\n",
    "    # plotting\n",
    "    ax.plot(nb_clusters_to_try, wcss,color=\"blue\",linestyle=\":\",marker=\"D\",label=\"Inertia\")\n",
    "    # customizing\n",
    "    ax.legend(loc=\"upper right\")\n",
    "    ax.set_title('The Elbow Method')\n",
    "    ax.set_xticks(nb_clusters_to_try)\n",
    "    ax.set_xlabel('Number of clusters')\n",
    "    ax.set_ylabel('Within-Cluster Sums of Squares')\n",
    "    ax.scatter(elbow_highlight,wcss[elbow_highlight-1],c='red',s=400)    \n",
    "    # annotate\n",
    "    ax.annotate(\"Elbow?\", \n",
    "                (elbow_highlight,wcss[elbow_highlight-1]),\n",
    "                (elbow_highlight+0.50,wcss[elbow_highlight-1]+5000), \n",
    "                arrowprops=dict(facecolor='black'),\n",
    "                fontsize=16,\n",
    "#                horizontalalignment='middle', \n",
    "                verticalalignment='top')\n",
    "    \n",
    "    ax.grid(axis=\"y\",linewidth=0.5)\n",
    "    plt.show()"
   ]
  },
  {
   "cell_type": "code",
   "execution_count": null,
   "id": "c815a3e5-5b40-4e61-8fe8-96f91ec61e24",
   "metadata": {},
   "outputs": [],
   "source": []
  }
 ],
 "metadata": {
  "kernelspec": {
   "display_name": "Python 3 (ipykernel)",
   "language": "python",
   "name": "python3"
  },
  "language_info": {
   "codemirror_mode": {
    "name": "ipython",
    "version": 3
   },
   "file_extension": ".py",
   "mimetype": "text/x-python",
   "name": "python",
   "nbconvert_exporter": "python",
   "pygments_lexer": "ipython3",
   "version": "3.10.6"
  }
 },
 "nbformat": 4,
 "nbformat_minor": 5
}
